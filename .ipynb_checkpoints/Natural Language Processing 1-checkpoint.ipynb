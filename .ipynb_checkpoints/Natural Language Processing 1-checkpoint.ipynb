{
 "cells": [
  {
   "cell_type": "code",
   "execution_count": 1,
   "id": "764ed8b6",
   "metadata": {},
   "outputs": [
    {
     "name": "stdout",
     "output_type": "stream",
     "text": [
      "What is the temerature in degrees 87\n",
      "The tempereature in Fahrenheit is  188.6\n"
     ]
    }
   ],
   "source": [
    "degree = eval(input('What is the temerature in degrees '))\n",
    "print('The tempereature in Fahrenheit is ', 9/5 * degree + 32)"
   ]
  },
  {
   "cell_type": "code",
   "execution_count": 8,
   "id": "13ac720d",
   "metadata": {},
   "outputs": [
    {
     "name": "stdout",
     "output_type": "stream",
     "text": [
      "The result of the calculation is  0.1017249004865104\n"
     ]
    }
   ],
   "source": [
    "num_1 = 512\n",
    "num_2 = 282\n",
    "num_3 = 47\n",
    "num_4 = 48\n",
    "num_5 = 5\n",
    "print('The result of the calculation is ', (num_1-num_2)/(num_3*num_4+num_5))"
   ]
  },
  {
   "cell_type": "code",
   "execution_count": 25,
   "id": "77c6b1e8",
   "metadata": {},
   "outputs": [
    {
     "name": "stdout",
     "output_type": "stream",
     "text": [
      "Please give me a number: 4\n",
      "The square of the number is 16.\n"
     ]
    }
   ],
   "source": [
    "number = eval(input('Please give me a number: '))\n",
    "print('The square of the number is ', number*number, '.', sep='')"
   ]
  },
  {
   "cell_type": "code",
   "execution_count": 18,
   "id": "d707d0ed",
   "metadata": {},
   "outputs": [
    {
     "name": "stdout",
     "output_type": "stream",
     "text": [
      "Write down your number: 3\n",
      "3---6---9---12\n"
     ]
    }
   ],
   "source": [
    "x = eval(input('Write down your number: '))\n",
    "print(x, 2*x, 3*x, 4*x, sep = '---' )"
   ]
  },
  {
   "cell_type": "code",
   "execution_count": 20,
   "id": "2f4608f2",
   "metadata": {},
   "outputs": [
    {
     "name": "stdout",
     "output_type": "stream",
     "text": [
      "What is you wieght in Kilogram: 2\n",
      "Your weight in pounds is  4.4\n"
     ]
    }
   ],
   "source": [
    "weight = eval(input('What is you wieght in Kilogram: '))\n",
    "print('Your weight in pounds is ', weight*2.2)"
   ]
  },
  {
   "cell_type": "code",
   "execution_count": 28,
   "id": "ea1c208c",
   "metadata": {},
   "outputs": [
    {
     "name": "stdout",
     "output_type": "stream",
     "text": [
      "What is your number: 3\n",
      "What is your second number: 2\n",
      "What is your third number: 4\n",
      "TOTAL  9\n",
      "AVERAGE  3.0\n"
     ]
    }
   ],
   "source": [
    "x = eval(input('What is your number: '))\n",
    "y = eval(input('What is your second number: '))\n",
    "z = eval(input('What is your third number: '))\n",
    "total = x + y + z\n",
    "average = total/3\n",
    "print('TOTAL ', total)\n",
    "print('AVERAGE ', average)"
   ]
  },
  {
   "cell_type": "code",
   "execution_count": 34,
   "id": "5497ba26",
   "metadata": {},
   "outputs": [
    {
     "name": "stdout",
     "output_type": "stream",
     "text": [
      "What is the price of the meal: 40\n",
      "Please provide the percentage tip you would like to give: 0.05\n",
      "TIP:  2.0\n",
      "TOTAL:  42.0\n"
     ]
    }
   ],
   "source": [
    "Price = eval(input('What is the price of the meal: '))\n",
    "Tip = eval(input('Please provide the percentage tip you would like to give: '))\n",
    "Tip_Amount = Price * Tip\n",
    "Total_Amount = Tip_Amount + Price\n",
    "print('TIP: ', Tip_Amount)\n",
    "print('TOTAL: ', Total_Amount)"
   ]
  },
  {
   "cell_type": "code",
   "execution_count": 55,
   "id": "6d89bbd7",
   "metadata": {},
   "outputs": [
    {
     "name": "stdout",
     "output_type": "stream",
     "text": [
      "AAAAAAAABBBBBBBBCDCDCDCDCDCDCDCDEFFFFFFFFG\n"
     ]
    }
   ],
   "source": [
    "for i in range(8):\n",
    "    print('A', end = '')\n",
    "for i in range(8):\n",
    "    print('B', end = '')\n",
    "for i in range(8):\n",
    "    print('C', end = '')\n",
    "    print('D', end = '')\n",
    "print('E', end = '')\n",
    "for i in range(8):\n",
    "    print('F', end = '')\n",
    "print('G')"
   ]
  },
  {
   "cell_type": "code",
   "execution_count": 62,
   "id": "d951a60f",
   "metadata": {},
   "outputs": [
    {
     "name": "stdout",
     "output_type": "stream",
     "text": [
      "What is your name? : Daniel\n",
      "How many times shhould it be printed? : 3\n",
      "\n",
      "Daniel\n",
      "Daniel\n",
      "Daniel\n"
     ]
    }
   ],
   "source": [
    "name = input('What is your name? : ')\n",
    "prints = eval(input('How many times shhould it be printed? : '))\n",
    "print()\n",
    "for I in range(prints):\n",
    "    print(name)"
   ]
  },
  {
   "cell_type": "code",
   "execution_count": 5,
   "id": "4506d57b",
   "metadata": {},
   "outputs": [
    {
     "name": "stdout",
     "output_type": "stream",
     "text": [
      "How many Fibonacchi numbers do you want: 8\n",
      "1 1 2 3 5 8 13 21 34 55 "
     ]
    }
   ],
   "source": [
    "n = eval(input('How many Fibonacchi numbers do you want: '))\n",
    "a = 1\n",
    "b = 1\n",
    "print(a, end = ' ', sep = ',')\n",
    "print(b, end = ' ')\n",
    "for i in range(n):\n",
    "    c = a+b\n",
    "    a = b\n",
    "    b = c\n",
    "    print(c, end = ' ')\n",
    "    "
   ]
  },
  {
   "cell_type": "code",
   "execution_count": 98,
   "id": "966cdfdd",
   "metadata": {},
   "outputs": [
    {
     "name": "stdout",
     "output_type": "stream",
     "text": [
      "What should be the width: 9\n",
      "*********\n",
      "********\n",
      "*******\n",
      "******\n",
      "*****\n",
      "****\n",
      "***\n",
      "**\n",
      "*\n"
     ]
    }
   ],
   "source": [
    "width = eval(input('What should be the width: '))\n",
    "# length = eval(input('What should be the length: '))\n",
    "for i in range(width):\n",
    "    print('*'*(width-i))"
   ]
  },
  {
   "cell_type": "code",
   "execution_count": 141,
   "id": "2db8e8f0",
   "metadata": {},
   "outputs": [
    {
     "name": "stdout",
     "output_type": "stream",
     "text": [
      "What should be the width: 4\n",
      "What should be the length: 5\n",
      "* * * * * \n",
      "*       * \n",
      "*       * \n",
      "* * * * * \n"
     ]
    }
   ],
   "source": [
    "width = eval(input('What should be the width: '))\n",
    "length = eval(input('What should be the length: '))\n",
    "for i in range(width):\n",
    "    for j in range(length):\n",
    "        if i == 0 or i == (width-1) or j == 0 or j == (length-1):\n",
    "            print('*', end = ' ')\n",
    "        else:\n",
    "            print(' ', end = ' ')\n",
    "    print()"
   ]
  },
  {
   "cell_type": "code",
   "execution_count": 2,
   "id": "6f7a46df",
   "metadata": {},
   "outputs": [
    {
     "name": "stdout",
     "output_type": "stream",
     "text": [
      "     *\n",
      "    ***\n",
      "   *****\n",
      "  *******\n",
      " *********\n"
     ]
    }
   ],
   "source": [
    "for i in range (5):\n",
    "    for j in range(i, 5):\n",
    "        print(' ', end = '')\n",
    "        \n",
    "    for j in range(i):\n",
    "        print('*', end = '')\n",
    "        \n",
    "    for j in range(i+1):\n",
    "        print('*', end = '')\n",
    "        \n",
    "   \n",
    "    print()"
   ]
  },
  {
   "cell_type": "code",
   "execution_count": 192,
   "id": "745e01df",
   "metadata": {},
   "outputs": [
    {
     "name": "stdout",
     "output_type": "stream",
     "text": [
      "          * \n",
      "        * * * \n",
      "      * * * * * \n",
      "    * * * * * * * \n",
      "  * * * * * * * * * \n"
     ]
    }
   ],
   "source": [
    "for i in range (5):\n",
    "    for j in range (5-i):\n",
    "        print(' ',end = ' ')\n",
    "    for j in range(i+1):\n",
    "        print('*',end = ' ')\n",
    "    for j in range (i):\n",
    "        print('*', end = ' ')\n",
    "    print()\n",
    "    \n",
    "# for i in range (6):\n",
    "#     for j in range (i):\n",
    "#         print(' ',end = ' ')\n",
    "#     for j in range (6-i): \n",
    "#         print('*', end = ' ')\n",
    "#     for j in range (6-(i+1)):\n",
    "# #         print('*',end = ' ')\n",
    "#     print()"
   ]
  },
  {
   "cell_type": "code",
   "execution_count": 36,
   "id": "8662537b",
   "metadata": {},
   "outputs": [
    {
     "name": "stdout",
     "output_type": "stream",
     "text": [
      "          * \n",
      "        *   * \n",
      "      * * * * * \n",
      "    *           * \n",
      "  *               * \n"
     ]
    }
   ],
   "source": [
    "for i in range(5):\n",
    "    for j in range(5-i):\n",
    "        print(' ', end = ' ')\n",
    "        \n",
    "    for j in range(i+1): \n",
    "        if i == 2 or j == 0:\n",
    "            print('*', end = ' ')\n",
    "        else:\n",
    "            print(' ',end = ' ')\n",
    "  \n",
    "\n",
    "    for j in range (i):\n",
    "        if  i == 2 or i-j == 1:\n",
    "            print('*', end = ' ')\n",
    "        else:\n",
    "            print(' ', end = ' ')\n",
    "    print()"
   ]
  },
  {
   "cell_type": "code",
   "execution_count": 60,
   "id": "a976aaf3",
   "metadata": {},
   "outputs": [
    {
     "name": "stdout",
     "output_type": "stream",
     "text": [
      "  * * * * * * * * * \n",
      "    *           * \n",
      "      *       * \n",
      "        *   * \n",
      "          * \n",
      "          * \n",
      "        *   * \n",
      "      *       * \n",
      "    *           * \n",
      "  * * * * * * * * * \n"
     ]
    }
   ],
   "source": [
    "for i in range (5):\n",
    "    for j in range (i+1):\n",
    "        print(' ', end = ' ')\n",
    "    for j in range (5-i):\n",
    "        if i == 0 or j == 0 :\n",
    "            print('*',end = ' ')\n",
    "        else:\n",
    "            print(' ', end = ' ')\n",
    "            \n",
    "    for j in range(5-(i+1)):\n",
    "        if i+j == 3 or i == 0:\n",
    "            print('*', end = ' ')\n",
    "        else:\n",
    "            print(' ', end = ' ')\n",
    "    print()\n",
    "    \n",
    "    \n",
    "for i in range(5):\n",
    "    for j in range(5-i):\n",
    "        print(' ', end = ' ')\n",
    "        \n",
    "    for j in range(i+1): \n",
    "        if i == 4 or j == 0:\n",
    "            print('*', end = ' ')\n",
    "        else:\n",
    "            print(' ',end = ' ')\n",
    "  \n",
    "\n",
    "    for j in range (i):\n",
    "        if  i == 4 or i-j == 1:\n",
    "            print('*', end = ' ')\n",
    "        else:\n",
    "            print(' ', end = ' ')\n",
    "    print()"
   ]
  },
  {
   "cell_type": "code",
   "execution_count": 83,
   "id": "eee97a81",
   "metadata": {},
   "outputs": [],
   "source": [
    "#Program that generates 50 ransom integers between 3 and 6\n",
    "import random\n",
    "for i in range(51):\n",
    "    integer = random.randint(3, 6)\n",
    "    print(integer)"
   ]
  },
  {
   "cell_type": "code",
   "execution_count": 94,
   "id": "0c68a616",
   "metadata": {},
   "outputs": [
    {
     "name": "stdout",
     "output_type": "stream",
     "text": [
      "83521\n"
     ]
    }
   ],
   "source": [
    "X = random.randint(1, 50)\n",
    "y = random.randint(2, 5)\n",
    "print(X**y)"
   ]
  },
  {
   "cell_type": "code",
   "execution_count": 100,
   "id": "4ca8d675",
   "metadata": {},
   "outputs": [],
   "source": [
    "name = random.randint(1, 10)\n",
    "print(name)\n",
    "for i in range (name):\n",
    "    print('Daniel Mainoo')"
   ]
  },
  {
   "cell_type": "code",
   "execution_count": 179,
   "id": "5c9f2743",
   "metadata": {},
   "outputs": [
    {
     "name": "stdout",
     "output_type": "stream",
     "text": [
      "1 1 1 4 1 6 1 9 9 10 10 7 5 15 15 8 5 17 5 3 6 2 10 10 1 14 7 10 24 30 31 3 8 16 26 8 30 25 23 1 10 20 8 39 25 6 30 31 43 26 "
     ]
    }
   ],
   "source": [
    "for i in range(50):\n",
    "    num = random.randint(1, i+2)\n",
    "    number.append(num)\n",
    "    print(num, end = ' ')"
   ]
  },
  {
   "cell_type": "code",
   "execution_count": 182,
   "id": "4f1a4a56",
   "metadata": {},
   "outputs": [
    {
     "name": "stdout",
     "output_type": "stream",
     "text": [
      "What is your first number: 5\n",
      "What is your second number: 3\n",
      "0.25\n"
     ]
    }
   ],
   "source": [
    "x = eval(input('What is your first number: '))\n",
    "y = eval(input('What is your second number: '))\n",
    "print((abs(x - y)/(x+y)))"
   ]
  },
  {
   "cell_type": "code",
   "execution_count": 211,
   "id": "11b74168",
   "metadata": {},
   "outputs": [
    {
     "name": "stdout",
     "output_type": "stream",
     "text": [
      "How many seconds have you been doing this: 56\n",
      "0 minutes 56 seconds\n"
     ]
    }
   ],
   "source": [
    "sec = eval(input('How many seconds have you been doing this: '))\n",
    "seconds = sec%60\n",
    "minute = sec//60\n",
    "print(minute,'minutes', end = ' ')\n",
    "print( seconds,'seconds')\n"
   ]
  },
  {
   "cell_type": "code",
   "execution_count": 127,
   "id": "bb0db8fb",
   "metadata": {},
   "outputs": [
    {
     "name": "stdout",
     "output_type": "stream",
     "text": [
      "Please provide an hour between 1 and 12: 3\n",
      "How many hours into the future are you looking to: 10\n",
      "0 O'clock\n"
     ]
    }
   ],
   "source": [
    "time = eval(input('Please provide an hour between 1 and 12: '))\n",
    "future = eval(input('How many hours into the future are you looking to: '))\n",
    "Time = time + future\n",
    "Exact = Time%13\n",
    "print(Exact, \"O'clock\")"
   ]
  },
  {
   "cell_type": "code",
   "execution_count": 6,
   "id": "807c35dc",
   "metadata": {},
   "outputs": [
    {
     "name": "stdout",
     "output_type": "stream",
     "text": [
      "0.5\n"
     ]
    }
   ],
   "source": [
    "import math\n",
    "print(round(math.sin(math.pi/6), 2))"
   ]
  },
  {
   "cell_type": "code",
   "execution_count": 22,
   "id": "f777790b",
   "metadata": {},
   "outputs": [
    {
     "name": "stdout",
     "output_type": "stream",
     "text": [
      "0 ---------- 0.0 1.0\n",
      "15 ---------- 0.2588 0.9659\n",
      "30 ---------- 0.5 0.866\n",
      "45 ---------- 0.7071 0.7071\n",
      "60 ---------- 0.866 0.5\n",
      "75 ---------- 0.9659 0.2588\n",
      "90 ---------- 1.0 0.0\n",
      "105 ---------- 0.9659 -0.2588\n",
      "120 ---------- 0.866 -0.5\n",
      "135 ---------- 0.7071 -0.7071\n",
      "150 ---------- 0.5 -0.866\n",
      "165 ---------- 0.2588 -0.9659\n",
      "180 ---------- 0.0 -1.0\n",
      "195 ---------- -0.2588 -0.9659\n",
      "210 ---------- -0.5 -0.866\n",
      "225 ---------- -0.7071 -0.7071\n",
      "240 ---------- -0.866 -0.5\n",
      "255 ---------- -0.9659 -0.2588\n",
      "270 ---------- -1.0 -0.0\n",
      "285 ---------- -0.9659 0.2588\n",
      "300 ---------- -0.866 0.5\n",
      "315 ---------- -0.7071 0.7071\n",
      "330 ---------- -0.5 0.866\n",
      "345 ---------- -0.2588 0.9659\n"
     ]
    }
   ],
   "source": [
    "from math import degrees, pi, sin, cos, radians\n",
    "for i in range (0, 360, 15):\n",
    "    x = round(sin(radians(i)), 4)\n",
    "    y = round(cos(radians(i)), 4)\n",
    "    print(i,'----------', x ,   y)"
   ]
  },
  {
   "cell_type": "code",
   "execution_count": 30,
   "id": "8f42618b",
   "metadata": {},
   "outputs": [
    {
     "name": "stdout",
     "output_type": "stream",
     "text": [
      "  * * * * * * * * * \n",
      "    * * * * * * * \n",
      "      * * * * * \n",
      "        * * * \n",
      "          * \n",
      "          * \n",
      "        * * * \n",
      "      * * * * * \n",
      "    * * * * * * * \n",
      "  * * * * * * * * * \n"
     ]
    }
   ],
   "source": [
    "for i in range(5): \n",
    "    for j in range(i+1):\n",
    "        print(' ', end = ' ')\n",
    "    for j in range(5-i):\n",
    "        print('*', end = ' ')\n",
    "    for j in range(5-(i+1)):\n",
    "        print('*', end = ' ')\n",
    "    print()\n",
    "    \n",
    "for i in range(5):\n",
    "    for j in range(5-i):\n",
    "        print(' ', end = ' ')\n",
    "    for j in range(i+1):\n",
    "        print('*', end = ' ')\n",
    "    for j in range(i):\n",
    "        print('*', end = ' ')    \n",
    "    print()"
   ]
  },
  {
   "cell_type": "code",
   "execution_count": 68,
   "id": "faa2bc57",
   "metadata": {},
   "outputs": [
    {
     "name": "stdout",
     "output_type": "stream",
     "text": [
      "0 1 2 3 4 \n",
      "5 6 7 8 9 \n",
      "0 1 2 3 4 \n"
     ]
    }
   ],
   "source": [
    "for i in range(3):\n",
    "    for j in range(5):\n",
    "        print((i*5+j)%10, end = ' ')\n",
    "    print()"
   ]
  },
  {
   "cell_type": "code",
   "execution_count": 7,
   "id": "93c58aa2",
   "metadata": {},
   "outputs": [
    {
     "name": "stdout",
     "output_type": "stream",
     "text": [
      "0 1 2 3 4 \n",
      "5 6 7 8 9 \n",
      "0 1 2 3 4 \n"
     ]
    }
   ],
   "source": [
    "c = 5\n",
    "r = 3\n",
    "for i in range (r):\n",
    "    for j in range(c):\n",
    "        print((i*5+j)%10, end = ' ')\n",
    "    print()"
   ]
  },
  {
   "cell_type": "code",
   "execution_count": 15,
   "id": "0da50ce1",
   "metadata": {},
   "outputs": [
    {
     "name": "stdout",
     "output_type": "stream",
     "text": [
      "0 1 2 3 4 5 6 7 \n",
      "8 9 0 1 2 3 4 5 \n",
      "6 7 8 9 0 1 2 3 \n",
      "4 5 6 7 8 9 0 1 \n"
     ]
    }
   ],
   "source": [
    "for i in range (4):\n",
    "    for j in range(8):\n",
    "        print((i*8+j)%10, end = ' ')\n",
    "    print()"
   ]
  },
  {
   "cell_type": "code",
   "execution_count": 55,
   "id": "f2ccb59c",
   "metadata": {},
   "outputs": [
    {
     "name": "stdout",
     "output_type": "stream",
     "text": [
      "Guess the number: 7\n",
      "Great job! You guessed the number\n"
     ]
    }
   ],
   "source": [
    "import random\n",
    "from random import randint\n",
    "attempts = 5\n",
    "for i in  range (attempts):\n",
    "    X = random.randint(1, 10)\n",
    "    Y = eval(input('Guess the number: '))\n",
    "    if X == Y:\n",
    "        print('Great job! You guessed the number')\n",
    "        break\n",
    "    else:\n",
    "        print('Sorry, the right answer is: ', X)"
   ]
  },
  {
   "cell_type": "code",
   "execution_count": 62,
   "id": "c3124127",
   "metadata": {},
   "outputs": [
    {
     "name": "stdout",
     "output_type": "stream",
     "text": [
      "Give length in cm: 5\n",
      "1.97\n"
     ]
    }
   ],
   "source": [
    "X = eval(input('Give length in cm: '))\n",
    "if X < 0:\n",
    "    print('Invalid input!!!!!!!')\n",
    "else:\n",
    "    Y = X/2.54\n",
    "    print(round(Y, 2))"
   ]
  },
  {
   "cell_type": "code",
   "execution_count": 60,
   "id": "4ed25edc",
   "metadata": {},
   "outputs": [
    {
     "name": "stdout",
     "output_type": "stream",
     "text": [
      "What is your temperature value: 4\n",
      "What is the unit of your value: C\n",
      "39.2 Degrees Fahrenheit\n"
     ]
    }
   ],
   "source": [
    "temp = eval(input('What is your temperature value: '))\n",
    "unit = input('What is the unit of your value: ')\n",
    "if unit == 'C':\n",
    "    F = ((9*temp)/5)+32\n",
    "    print(F, 'Degrees Fahrenheit')\n",
    "elif unit == 'F':\n",
    "    C = (5*(temp-32))/9\n",
    "    print(C, ' Degrees Celcius')"
   ]
  },
  {
   "cell_type": "code",
   "execution_count": 69,
   "id": "e1e69180",
   "metadata": {},
   "outputs": [
    {
     "name": "stdout",
     "output_type": "stream",
     "text": [
      "How many credits have you taken: 9\n",
      "You are a Freshman. Welcome to the University\n"
     ]
    }
   ],
   "source": [
    "credits = eval(input('How many credits have you taken: '))\n",
    "if credits <= 23:\n",
    "    print('You are a Freshman. Welcome to the University')\n",
    "elif credits >=24 and credits <=53:\n",
    "    print('You are a sophomore.')\n",
    "elif credits >=54 and credits <=83:\n",
    "    print('You are a junior')\n",
    "else:\n",
    "    print('You are a senio')"
   ]
  },
  {
   "cell_type": "code",
   "execution_count": 95,
   "id": "4b2ff484",
   "metadata": {},
   "outputs": [
    {
     "name": "stdout",
     "output_type": "stream",
     "text": [
      "number: 3\n",
      "1\n",
      "3\n"
     ]
    }
   ],
   "source": [
    "X = eval(input('number: '))\n",
    "for i in range(1, (X+1)):\n",
    "    if X%i == 0:\n",
    "        print(i)"
   ]
  },
  {
   "cell_type": "code",
   "execution_count": 61,
   "id": "f826ea01",
   "metadata": {},
   "outputs": [
    {
     "name": "stdout",
     "output_type": "stream",
     "text": [
      "Question 1 : 5 × 6 = 2\n",
      "Wrong, the answer is  30\n",
      "\n",
      "Question 2 : 5 × 3 = 2\n",
      "Wrong, the answer is  15\n",
      "\n",
      "Question 3 : 7 × 3 = 2\n",
      "Wrong, the answer is  21\n",
      "\n",
      "Question 4 : 1 × 10 = 2\n",
      "Wrong, the answer is  10\n",
      "\n",
      "Question 5 : 2 × 5 = 2\n",
      "Wrong, the answer is  10\n",
      "\n",
      "Question 6 : 7 × 6 "
     ]
    },
    {
     "ename": "KeyboardInterrupt",
     "evalue": "Interrupted by user",
     "output_type": "error",
     "traceback": [
      "\u001b[1;31m---------------------------------------------------------------------------\u001b[0m",
      "\u001b[1;31mKeyboardInterrupt\u001b[0m                         Traceback (most recent call last)",
      "Input \u001b[1;32mIn [61]\u001b[0m, in \u001b[0;36m<cell line: 3>\u001b[1;34m()\u001b[0m\n\u001b[0;32m      7\u001b[0m \u001b[38;5;28mprint\u001b[39m(\u001b[38;5;124m'\u001b[39m\u001b[38;5;124mQuestion\u001b[39m\u001b[38;5;124m'\u001b[39m,i,\u001b[38;5;124m'\u001b[39m\u001b[38;5;124m:\u001b[39m\u001b[38;5;124m'\u001b[39m, end \u001b[38;5;241m=\u001b[39m \u001b[38;5;124m'\u001b[39m\u001b[38;5;124m \u001b[39m\u001b[38;5;124m'\u001b[39m)\n\u001b[0;32m      8\u001b[0m \u001b[38;5;28mprint\u001b[39m(X, \u001b[38;5;124m'\u001b[39m\u001b[38;5;124m×\u001b[39m\u001b[38;5;124m'\u001b[39m, Y, end \u001b[38;5;241m=\u001b[39m \u001b[38;5;124m'\u001b[39m\u001b[38;5;124m \u001b[39m\u001b[38;5;124m'\u001b[39m)\n\u001b[1;32m----> 9\u001b[0m Ans \u001b[38;5;241m=\u001b[39m \u001b[38;5;28meval\u001b[39m(\u001b[38;5;28;43minput\u001b[39;49m\u001b[43m(\u001b[49m\u001b[38;5;124;43m'\u001b[39;49m\u001b[38;5;124;43m= \u001b[39;49m\u001b[38;5;124;43m'\u001b[39;49m\u001b[43m)\u001b[49m)\n\u001b[0;32m     10\u001b[0m \u001b[38;5;28;01mif\u001b[39;00m Ans \u001b[38;5;241m==\u001b[39m Z:\n\u001b[0;32m     11\u001b[0m     \u001b[38;5;28mprint\u001b[39m(\u001b[38;5;124m'\u001b[39m\u001b[38;5;124mRight, Well Done!!\u001b[39m\u001b[38;5;124m'\u001b[39m)\n",
      "File \u001b[1;32m~\\anaconda3\\lib\\site-packages\\ipykernel\\kernelbase.py:1075\u001b[0m, in \u001b[0;36mKernel.raw_input\u001b[1;34m(self, prompt)\u001b[0m\n\u001b[0;32m   1071\u001b[0m \u001b[38;5;28;01mif\u001b[39;00m \u001b[38;5;129;01mnot\u001b[39;00m \u001b[38;5;28mself\u001b[39m\u001b[38;5;241m.\u001b[39m_allow_stdin:\n\u001b[0;32m   1072\u001b[0m     \u001b[38;5;28;01mraise\u001b[39;00m StdinNotImplementedError(\n\u001b[0;32m   1073\u001b[0m         \u001b[38;5;124m\"\u001b[39m\u001b[38;5;124mraw_input was called, but this frontend does not support input requests.\u001b[39m\u001b[38;5;124m\"\u001b[39m\n\u001b[0;32m   1074\u001b[0m     )\n\u001b[1;32m-> 1075\u001b[0m \u001b[38;5;28;01mreturn\u001b[39;00m \u001b[38;5;28;43mself\u001b[39;49m\u001b[38;5;241;43m.\u001b[39;49m\u001b[43m_input_request\u001b[49m\u001b[43m(\u001b[49m\n\u001b[0;32m   1076\u001b[0m \u001b[43m    \u001b[49m\u001b[38;5;28;43mstr\u001b[39;49m\u001b[43m(\u001b[49m\u001b[43mprompt\u001b[49m\u001b[43m)\u001b[49m\u001b[43m,\u001b[49m\n\u001b[0;32m   1077\u001b[0m \u001b[43m    \u001b[49m\u001b[38;5;28;43mself\u001b[39;49m\u001b[38;5;241;43m.\u001b[39;49m\u001b[43m_parent_ident\u001b[49m\u001b[43m[\u001b[49m\u001b[38;5;124;43m\"\u001b[39;49m\u001b[38;5;124;43mshell\u001b[39;49m\u001b[38;5;124;43m\"\u001b[39;49m\u001b[43m]\u001b[49m\u001b[43m,\u001b[49m\n\u001b[0;32m   1078\u001b[0m \u001b[43m    \u001b[49m\u001b[38;5;28;43mself\u001b[39;49m\u001b[38;5;241;43m.\u001b[39;49m\u001b[43mget_parent\u001b[49m\u001b[43m(\u001b[49m\u001b[38;5;124;43m\"\u001b[39;49m\u001b[38;5;124;43mshell\u001b[39;49m\u001b[38;5;124;43m\"\u001b[39;49m\u001b[43m)\u001b[49m\u001b[43m,\u001b[49m\n\u001b[0;32m   1079\u001b[0m \u001b[43m    \u001b[49m\u001b[43mpassword\u001b[49m\u001b[38;5;241;43m=\u001b[39;49m\u001b[38;5;28;43;01mFalse\u001b[39;49;00m\u001b[43m,\u001b[49m\n\u001b[0;32m   1080\u001b[0m \u001b[43m\u001b[49m\u001b[43m)\u001b[49m\n",
      "File \u001b[1;32m~\\anaconda3\\lib\\site-packages\\ipykernel\\kernelbase.py:1120\u001b[0m, in \u001b[0;36mKernel._input_request\u001b[1;34m(self, prompt, ident, parent, password)\u001b[0m\n\u001b[0;32m   1117\u001b[0m             \u001b[38;5;28;01mbreak\u001b[39;00m\n\u001b[0;32m   1118\u001b[0m \u001b[38;5;28;01mexcept\u001b[39;00m \u001b[38;5;167;01mKeyboardInterrupt\u001b[39;00m:\n\u001b[0;32m   1119\u001b[0m     \u001b[38;5;66;03m# re-raise KeyboardInterrupt, to truncate traceback\u001b[39;00m\n\u001b[1;32m-> 1120\u001b[0m     \u001b[38;5;28;01mraise\u001b[39;00m \u001b[38;5;167;01mKeyboardInterrupt\u001b[39;00m(\u001b[38;5;124m\"\u001b[39m\u001b[38;5;124mInterrupted by user\u001b[39m\u001b[38;5;124m\"\u001b[39m) \u001b[38;5;28;01mfrom\u001b[39;00m \u001b[38;5;28mNone\u001b[39m\n\u001b[0;32m   1121\u001b[0m \u001b[38;5;28;01mexcept\u001b[39;00m \u001b[38;5;167;01mException\u001b[39;00m:\n\u001b[0;32m   1122\u001b[0m     \u001b[38;5;28mself\u001b[39m\u001b[38;5;241m.\u001b[39mlog\u001b[38;5;241m.\u001b[39mwarning(\u001b[38;5;124m\"\u001b[39m\u001b[38;5;124mInvalid Message:\u001b[39m\u001b[38;5;124m\"\u001b[39m, exc_info\u001b[38;5;241m=\u001b[39m\u001b[38;5;28;01mTrue\u001b[39;00m)\n",
      "\u001b[1;31mKeyboardInterrupt\u001b[0m: Interrupted by user"
     ]
    }
   ],
   "source": [
    "import random\n",
    "from random import randint\n",
    "for i in range (1, 11):\n",
    "    X = randint(1, 10)\n",
    "    Y = randint(1, 10)\n",
    "    Z = X * Y\n",
    "    print('Question',i,':', end = ' ')\n",
    "    print(X, '×', Y, end = ' ')\n",
    "    Ans = eval(input('= '))\n",
    "    if Ans == Z:\n",
    "        print('Right, Well Done!!')\n",
    "    else:\n",
    "        print('Wrong, the answer is ',Z)\n",
    "    print()\n",
    "         \n",
    "    \n",
    "    "
   ]
  },
  {
   "cell_type": "code",
   "execution_count": 133,
   "id": "ce914c56",
   "metadata": {},
   "outputs": [
    {
     "name": "stdout",
     "output_type": "stream",
     "text": [
      "Please provide an hour between 1 and 12: 1\n",
      "am or pm: am\n",
      "How many hours into the future are you looking to: 11\n",
      "12 O'clock pm\n"
     ]
    }
   ],
   "source": [
    "time = eval(input('Please provide an hour between 1 and 12: '))\n",
    "period = input('am or pm: ')\n",
    "future = eval(input('How many hours into the future are you looking to: '))\n",
    "Time = time + future\n",
    "Exact = Time%12\n",
    "if Time > 12:\n",
    "    if period == 'am':\n",
    "        print(Exact, \"O'clock pm\")\n",
    "    elif period == 'pm':\n",
    "        print(Exact, \"O'clock am\")\n",
    "        \n",
    "elif Time < 12:\n",
    "    if period == 'am':\n",
    "        print(Exact, \"O'clock am\")\n",
    "    elif period == 'pm':\n",
    "        print(Exact, \"O'clock pm\")\n",
    "        \n",
    "else:\n",
    "    if period == 'am':\n",
    "        print(Time, \"O'clock pm\")\n",
    "    elif period == 'pm':\n",
    "        print(Time, \"O'clock am\")"
   ]
  },
  {
   "cell_type": "code",
   "execution_count": null,
   "id": "2cffd037",
   "metadata": {},
   "outputs": [],
   "source": [
    "# Guess = eval(input('How many candies do you think are there: '))\n",
    "if Guess%5 == 2 and Guess%6 == 3 and Guess%7 == 2 and Guess < 200:\n",
    "    print(Guess,'is the right number')\n",
    "print(Guesss)\n"
   ]
  },
  {
   "cell_type": "code",
   "execution_count": 166,
   "id": "028d16f9",
   "metadata": {},
   "outputs": [
    {
     "name": "stdout",
     "output_type": "stream",
     "text": [
      "177\n"
     ]
    }
   ],
   "source": [
    "for G in range (1, 201):\n",
    "    if G%5 == 2 and G%6 == 3 and G%7 == 2:\n",
    "        print(G)"
   ]
  },
  {
   "cell_type": "code",
   "execution_count": 62,
   "id": "570c7408",
   "metadata": {},
   "outputs": [
    {
     "name": "stdout",
     "output_type": "stream",
     "text": [
      "Rock(r), Paper(p) or Scissors(s)? paper\n",
      "Rock(r), Paper(p) or Scissors(s)? scissors\n",
      "Rock(r), Paper(p) or Scissors(s)? scissors\n",
      "Rock(r), Paper(p) or Scissors(s)? rock\n",
      "Rock(r), Paper(p) or Scissors(s)? scissors\n",
      "\n",
      "You win!\n"
     ]
    }
   ],
   "source": [
    "for i in range (5):\n",
    "    computer =random.choice(['rock', 'paper', 'scissors'])\n",
    "    player = input('Rock(r), Paper(p) or Scissors(s)? ')\n",
    "    if player == 'rock':\n",
    "        if computer == 'paper':\n",
    "            computer > player\n",
    "        elif computer == 'scissors':\n",
    "            player > computer\n",
    "        else:\n",
    "            player == computer   \n",
    "\n",
    "    if player == 'paper':\n",
    "        if computer == 'scissors':\n",
    "            computer > player\n",
    "        elif computer == 'rock':\n",
    "            player > computer\n",
    "        else:\n",
    "            player == computer\n",
    "\n",
    "    if player == 'scissors':\n",
    "        if computer == 'rock':\n",
    "            computer > player\n",
    "        elif computer == 'paper':\n",
    "            player > computer\n",
    "        else:\n",
    "            player == computer\n",
    "print()          \n",
    "if (computer > player) > (player > computer):\n",
    "    print('Sorry, you lose')\n",
    "    \n",
    "else:\n",
    "    print('You win!')"
   ]
  },
  {
   "cell_type": "code",
   "execution_count": 8,
   "id": "3915ec30",
   "metadata": {},
   "outputs": [
    {
     "name": "stdout",
     "output_type": "stream",
     "text": [
      "Number: 3\n",
      "Prime\n"
     ]
    }
   ],
   "source": [
    "num = eval(input('Number: '))\n",
    "\n",
    "flag = 0\n",
    "for i in range (2, num):\n",
    "    if num%i == 0:\n",
    "        flag = 1\n",
    "        \n",
    "if flag == 1:\n",
    "    print('Not prime')\n",
    "else:\n",
    "    print('Prime')"
   ]
  },
  {
   "cell_type": "code",
   "execution_count": 77,
   "id": "50c78edc",
   "metadata": {},
   "outputs": [
    {
     "name": "stdout",
     "output_type": "stream",
     "text": [
      "Count_1 =  20\n",
      "Count_2 =  20\n"
     ]
    }
   ],
   "source": [
    "count_1 = 0\n",
    "count_2 = 0\n",
    "for num in range (1, 101):\n",
    "    square = num**2\n",
    "    if square%10 == 4:\n",
    "        count_1 = count_1 + 1\n",
    "    if square%10 == 9:\n",
    "        count_2 = count_2 + 1\n",
    "print('Count_1 = ',count_1)\n",
    "print('Count_2 = ',count_2)"
   ]
  },
  {
   "cell_type": "code",
   "execution_count": 104,
   "id": "811cddda",
   "metadata": {},
   "outputs": [
    {
     "name": "stdout",
     "output_type": "stream",
     "text": [
      "Enter value: 4\n",
      "0.6970389722134425\n"
     ]
    }
   ],
   "source": [
    "import math\n",
    "from math import log\n",
    "count = 0\n",
    "n = eval(input('Enter value: '))\n",
    "for result in range(1, n+1):\n",
    "    calc = 1/(result)\n",
    "    count = count + calc\n",
    "X = count - log(n)\n",
    "print(X)"
   ]
  },
  {
   "cell_type": "code",
   "execution_count": 230,
   "id": "170173c4",
   "metadata": {},
   "outputs": [
    {
     "name": "stdout",
     "output_type": "stream",
     "text": [
      "-1000\n"
     ]
    }
   ],
   "source": [
    "#A program to calculate an alternating sequence\n",
    "count = 0\n",
    "for i in range (1, 2001):\n",
    "    if i % 2 == 0:\n",
    "        count = count - i\n",
    "    elif i % 2 == 1:\n",
    "        count = i + count\n",
    "print(count)"
   ]
  },
  {
   "cell_type": "code",
   "execution_count": 237,
   "id": "1f7f2dc0",
   "metadata": {},
   "outputs": [
    {
     "name": "stdout",
     "output_type": "stream",
     "text": [
      "Enter number: 3\n",
      "1\n"
     ]
    }
   ],
   "source": [
    "sum_ = 0\n",
    "num = eval(input('Enter number: '))\n",
    "for divisor in range (1, num):\n",
    "    if num%divisor == 0:\n",
    "        sum_ = sum_ + divisor\n",
    "print(sum_)"
   ]
  },
  {
   "cell_type": "code",
   "execution_count": 309,
   "id": "3876ee13",
   "metadata": {},
   "outputs": [
    {
     "name": "stdout",
     "output_type": "stream",
     "text": [
      "Enter number: 6\n",
      "Perfect number\n",
      "6\n"
     ]
    }
   ],
   "source": [
    "sum_ = 0\n",
    "num = eval(input('Enter number: '))\n",
    "for divisor in range (1, num):\n",
    "    if num%divisor == 0:\n",
    "        sum_ = sum_ + divisor\n",
    "        \n",
    "if sum_ == num:\n",
    "    print('Perfect number')\n",
    "    print(num)"
   ]
  },
  {
   "cell_type": "code",
   "execution_count": 369,
   "id": "06b9452e",
   "metadata": {},
   "outputs": [
    {
     "name": "stdout",
     "output_type": "stream",
     "text": [
      "6 \n",
      "28 \n",
      "496 \n",
      "8128 \n"
     ]
    }
   ],
   "source": [
    "#CODE TO FIND THE PERFECT NUMBER BETWEEN 1 AND 10000\n",
    "for number in range (1, 10000):\n",
    "    add = 0\n",
    "    for div in range (1, number):\n",
    "        if number%div == 0:\n",
    "            add = add + div\n",
    "\n",
    "\n",
    "    if add == number:\n",
    "        print(number, end = ' ')\n",
    "        print()\n",
    "    \n"
   ]
  },
  {
   "cell_type": "code",
   "execution_count": 64,
   "id": "4f3d2791",
   "metadata": {},
   "outputs": [
    {
     "name": "stdout",
     "output_type": "stream",
     "text": [
      "What is your number? 58\n",
      "squarefree\n"
     ]
    }
   ],
   "source": [
    "import math\n",
    "from math import sqrt\n",
    "signal = 0\n",
    "number = eval(input('What is your number? '))\n",
    "for div in range(2, number+1):\n",
    "    if number%div == 0:\n",
    "#         print(div)\n",
    "        for i in range(1,div):\n",
    "            if i*i == div:\n",
    "                signal = 1\n",
    "                break\n",
    "\n",
    "if signal == 1:\n",
    "    print('Not squarefree')\n",
    "else:\n",
    "    print('squarefree')\n",
    "\n",
    "        \n",
    "                "
   ]
  },
  {
   "cell_type": "code",
   "execution_count": 70,
   "id": "f041f0d3",
   "metadata": {},
   "outputs": [
    {
     "name": "stdout",
     "output_type": "stream",
     "text": [
      "4\n",
      "9\n"
     ]
    }
   ],
   "source": [
    "flag = 0\n",
    "for number in range (1, 10):\n",
    "    for i in range (1, number):\n",
    "        if i*i == number: \n",
    "            flage = 1\n",
    "         el   "
   ]
  }
 ],
 "metadata": {
  "kernelspec": {
   "display_name": "Python 3 (ipykernel)",
   "language": "python",
   "name": "python3"
  },
  "language_info": {
   "codemirror_mode": {
    "name": "ipython",
    "version": 3
   },
   "file_extension": ".py",
   "mimetype": "text/x-python",
   "name": "python",
   "nbconvert_exporter": "python",
   "pygments_lexer": "ipython3",
   "version": "3.9.12"
  }
 },
 "nbformat": 4,
 "nbformat_minor": 5
}
